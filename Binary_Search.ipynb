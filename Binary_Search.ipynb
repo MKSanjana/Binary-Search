{
  "nbformat": 4,
  "nbformat_minor": 0,
  "metadata": {
    "colab": {
      "name": "Binary Search.ipynb",
      "provenance": []
    },
    "kernelspec": {
      "name": "python3",
      "display_name": "Python 3"
    },
    "language_info": {
      "name": "python"
    }
  },
  "cells": [
    {
      "cell_type": "code",
      "source": [
        "lst = [1,3,2,4,5,6,9,8,7,10]\n",
        "lst.sort()\n",
        "first=0\n",
        "last=len(lst)-1\n",
        "mid = (first+last)//2\n",
        "item = int(input(\"enter the number to be search\"))\n",
        "found = False\n",
        "while( first<=last and not found):\n",
        "    mid = (first + last)//2\n",
        "    if lst[mid] == item :\n",
        "         print(f\"found at location {mid}\")\n",
        "         found= True\n",
        "    else:\n",
        "        if item < lst[mid]:\n",
        "            last = mid - 1\n",
        "        else:\n",
        "            first = mid + 1 \n",
        "   \n",
        "if found == False:\n",
        "    print(\"Number not found\")"
      ],
      "metadata": {
        "colab": {
          "base_uri": "https://localhost:8080/"
        },
        "id": "5J6a_5qpZIDN",
        "outputId": "78637e79-29ba-4f8e-9f26-ea1f11d58cc6"
      },
      "execution_count": 16,
      "outputs": [
        {
          "output_type": "stream",
          "name": "stdout",
          "text": [
            "enter the number to be search5\n",
            "found at location 4\n"
          ]
        }
      ]
    }
  ]
}